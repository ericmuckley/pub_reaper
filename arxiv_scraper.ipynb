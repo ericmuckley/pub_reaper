{
 "cells": [
  {
   "cell_type": "code",
   "execution_count": 1,
   "metadata": {},
   "outputs": [],
   "source": [
    "import os\n",
    "import time\n",
    "import pandas as pd\n",
    "import urllib.request\n",
    "from bs4 import BeautifulSoup\n",
    "import matplotlib.pyplot as plt\n",
    "\n",
    "# change matplotlib settings to make plots look nicer\n",
    "plt.rcParams['xtick.labelsize'] = 18\n",
    "plt.rcParams['ytick.labelsize'] = 18\n",
    "plt.rcParams['axes.linewidth'] = 3\n",
    "plt.rcParams['xtick.minor.width'] = 3\n",
    "plt.rcParams['xtick.major.width'] = 3\n",
    "plt.rcParams['ytick.minor.width'] = 3\n",
    "plt.rcParams['ytick.major.width'] = 3\n",
    "\n",
    "def plot_setup(labels=['X', 'Y'], fsize=18, title='',\n",
    "               axes_on=True):\n",
    "    \"\"\"Creates a custom plot configuration to make graphs look nice.\n",
    "    This should be called between plt.plot() and plt.show() commands.\"\"\"\n",
    "    plt.xlabel(str(labels[0]), fontsize=fsize)\n",
    "    plt.ylabel(str(labels[1]), fontsize=fsize)\n",
    "    plt.axis(axes_on)\n",
    "    plt.title(title, fontsize=fsize)\n",
    "    #fig = plt.gcf()\n",
    "    #fig.set_size_inches(8, 8)"
   ]
  },
  {
   "cell_type": "code",
   "execution_count": 2,
   "metadata": {},
   "outputs": [
    {
     "name": "stdout",
     "output_type": "stream",
     "text": [
      "Found 10000 acticles using \"additive\" query\n"
     ]
    }
   ],
   "source": [
    "# create a query topic\n",
    "query = 'additive'\n",
    "\n",
    "# create API URL to request\n",
    "url_start = r'http://export.arxiv.org/api/query?search_query=all'\n",
    "url_end = r':{}&start=0&max_results=10000'.format(query)\n",
    "url = url_start + url_end\n",
    "\n",
    "# get response from URL, decode it, and remove new line characters\n",
    "response = urllib.request.urlopen(url).read()\n",
    "response = response.decode().replace('\\n', '')\n",
    "\n",
    "# create the HTML parser\n",
    "soup = BeautifulSoup(response, 'html.parser')\n",
    "#print(soup.prettify())\n",
    "\n",
    "# extract publication information from HTML\n",
    "titles = [i.get_text() for i in soup.find_all('title')][1:]\n",
    "summaries = [i.get_text().lstrip() for i in soup.find_all('summary')]\n",
    "years = [int(i.get_text().split('-')[0]) for i in soup.find_all('published')]\n",
    "print('Found {} acticles using \"{}\" query'.format(len(titles), query))"
   ]
  },
  {
   "cell_type": "code",
   "execution_count": 3,
   "metadata": {
    "scrolled": false
   },
   "outputs": [
    {
     "data": {
      "text/html": [
       "<div>\n",
       "<style scoped>\n",
       "    .dataframe tbody tr th:only-of-type {\n",
       "        vertical-align: middle;\n",
       "    }\n",
       "\n",
       "    .dataframe tbody tr th {\n",
       "        vertical-align: top;\n",
       "    }\n",
       "\n",
       "    .dataframe thead th {\n",
       "        text-align: right;\n",
       "    }\n",
       "</style>\n",
       "<table border=\"1\" class=\"dataframe\">\n",
       "  <thead>\n",
       "    <tr style=\"text-align: right;\">\n",
       "      <th></th>\n",
       "      <th>title</th>\n",
       "      <th>year</th>\n",
       "      <th>summary</th>\n",
       "    </tr>\n",
       "  </thead>\n",
       "  <tbody>\n",
       "    <tr>\n",
       "      <th>0</th>\n",
       "      <td>On additive property of finitely additive meas...</td>\n",
       "      <td>2019</td>\n",
       "      <td>By the additive property, we mean a condition ...</td>\n",
       "    </tr>\n",
       "    <tr>\n",
       "      <th>1</th>\n",
       "      <td>Additive Lie ($ξ$-Lie) Derivations and General...</td>\n",
       "      <td>2010</td>\n",
       "      <td>The additive (generalized) $\\xi$-Lie derivatio...</td>\n",
       "    </tr>\n",
       "    <tr>\n",
       "      <th>2</th>\n",
       "      <td>Every null additive set of reals is meager add...</td>\n",
       "      <td>1994</td>\n",
       "      <td>We show that every null-additive set is meager...</td>\n",
       "    </tr>\n",
       "    <tr>\n",
       "      <th>3</th>\n",
       "      <td>On the equivalence of some eternal additive co...</td>\n",
       "      <td>2006</td>\n",
       "      <td>In this paper, we study additive coalescents. ...</td>\n",
       "    </tr>\n",
       "    <tr>\n",
       "      <th>4</th>\n",
       "      <td>The additive dilogarithm</td>\n",
       "      <td>2002</td>\n",
       "      <td>We define an additive version of the Bloch gro...</td>\n",
       "    </tr>\n",
       "    <tr>\n",
       "      <th>...</th>\n",
       "      <td>...</td>\n",
       "      <td>...</td>\n",
       "      <td>...</td>\n",
       "    </tr>\n",
       "    <tr>\n",
       "      <th>9995</th>\n",
       "      <td>Updating the silent speech challenge benchmark...</td>\n",
       "      <td>2017</td>\n",
       "      <td>The 2010 Silent Speech Challenge benchmark is ...</td>\n",
       "    </tr>\n",
       "    <tr>\n",
       "      <th>9996</th>\n",
       "      <td>Heteroscedastic BART Using Multiplicative Regr...</td>\n",
       "      <td>2017</td>\n",
       "      <td>BART (Bayesian Additive Regression Trees) has ...</td>\n",
       "    </tr>\n",
       "    <tr>\n",
       "      <th>9997</th>\n",
       "      <td>Van der Waals torque and force between anisotr...</td>\n",
       "      <td>2017</td>\n",
       "      <td>We investigate the character of the van der Wa...</td>\n",
       "    </tr>\n",
       "    <tr>\n",
       "      <th>9998</th>\n",
       "      <td>On predictive density estimation with addition...</td>\n",
       "      <td>2017</td>\n",
       "      <td>Based on independently distributed $X_1 \\sim N...</td>\n",
       "    </tr>\n",
       "    <tr>\n",
       "      <th>9999</th>\n",
       "      <td>Massless Spectra and Gauge Couplings at One-Lo...</td>\n",
       "      <td>2017</td>\n",
       "      <td>So-called `non-factorisable' toroidal orbifold...</td>\n",
       "    </tr>\n",
       "  </tbody>\n",
       "</table>\n",
       "<p>10000 rows × 3 columns</p>\n",
       "</div>"
      ],
      "text/plain": [
       "                                                  title  year  \\\n",
       "0     On additive property of finitely additive meas...  2019   \n",
       "1     Additive Lie ($ξ$-Lie) Derivations and General...  2010   \n",
       "2     Every null additive set of reals is meager add...  1994   \n",
       "3     On the equivalence of some eternal additive co...  2006   \n",
       "4                              The additive dilogarithm  2002   \n",
       "...                                                 ...   ...   \n",
       "9995  Updating the silent speech challenge benchmark...  2017   \n",
       "9996  Heteroscedastic BART Using Multiplicative Regr...  2017   \n",
       "9997  Van der Waals torque and force between anisotr...  2017   \n",
       "9998  On predictive density estimation with addition...  2017   \n",
       "9999  Massless Spectra and Gauge Couplings at One-Lo...  2017   \n",
       "\n",
       "                                                summary  \n",
       "0     By the additive property, we mean a condition ...  \n",
       "1     The additive (generalized) $\\xi$-Lie derivatio...  \n",
       "2     We show that every null-additive set is meager...  \n",
       "3     In this paper, we study additive coalescents. ...  \n",
       "4     We define an additive version of the Bloch gro...  \n",
       "...                                                 ...  \n",
       "9995  The 2010 Silent Speech Challenge benchmark is ...  \n",
       "9996  BART (Bayesian Additive Regression Trees) has ...  \n",
       "9997  We investigate the character of the van der Wa...  \n",
       "9998  Based on independently distributed $X_1 \\sim N...  \n",
       "9999  So-called `non-factorisable' toroidal orbifold...  \n",
       "\n",
       "[10000 rows x 3 columns]"
      ]
     },
     "execution_count": 3,
     "metadata": {},
     "output_type": "execute_result"
    }
   ],
   "source": [
    "df = pd.DataFrame()\n",
    "df['title'] = titles\n",
    "df['year'] = years\n",
    "df['summary'] = summaries\n",
    "\n",
    "df"
   ]
  },
  {
   "cell_type": "code",
   "execution_count": null,
   "metadata": {},
   "outputs": [],
   "source": []
  },
  {
   "cell_type": "code",
   "execution_count": 4,
   "metadata": {},
   "outputs": [],
   "source": [
    "# save dataframe to file\n",
    "export_time = time.strftime('%Y-%m-%d_%H-%M')\n",
    "export_filepath = os.path.join(\n",
    "    os.getcwd(), query+'__arxiv_query_'+export_time+'.txt')\n",
    "df.to_csv(export_filepath, index=False, sep='\\t')"
   ]
  },
  {
   "cell_type": "code",
   "execution_count": null,
   "metadata": {},
   "outputs": [],
   "source": [
    "  "
   ]
  },
  {
   "cell_type": "code",
   "execution_count": 5,
   "metadata": {},
   "outputs": [
    {
     "data": {
      "image/png": "[encoded data removed]",
      "text/plain": [
       "<Figure size 432x288 with 1 Axes>"
      ]
     },
     "metadata": {
      "needs_background": "light"
     },
     "output_type": "display_data"
    }
   ],
   "source": [
    "df.hist(column='year')\n",
    "plt.grid(False)\n",
    "plot_setup(title='Publications mentioning \"{}\" by year'.format(query),\n",
    "          labels=['Year', 'Number of publications'])\n",
    "plt.show()"
   ]
  },
  {
   "cell_type": "code",
   "execution_count": null,
   "metadata": {},
   "outputs": [],
   "source": []
  },
  {
   "cell_type": "code",
   "execution_count": null,
   "metadata": {},
   "outputs": [],
   "source": []
  },
  {
   "cell_type": "code",
   "execution_count": null,
   "metadata": {},
   "outputs": [],
   "source": []
  },
  {
   "cell_type": "code",
   "execution_count": 23,
   "metadata": {},
   "outputs": [
    {
     "ename": "ValueError",
     "evalue": "dimension mismatch",
     "output_type": "error",
     "traceback": [
      "\u001b[1;31m---------------------------------------------------------------------------\u001b[0m",
      "\u001b[1;31mValueError\u001b[0m                                Traceback (most recent call last)",
      "\u001b[1;32m<ipython-input-23-ce2a9374dae2>\u001b[0m in \u001b[0;36m<module>\u001b[1;34m\u001b[0m\n\u001b[0;32m     24\u001b[0m \u001b[0mN\u001b[0m \u001b[1;33m=\u001b[0m \u001b[0mint\u001b[0m\u001b[1;33m(\u001b[0m\u001b[0mmath\u001b[0m\u001b[1;33m.\u001b[0m\u001b[0msqrt\u001b[0m\u001b[1;33m(\u001b[0m\u001b[0mnp\u001b[0m\u001b[1;33m.\u001b[0m\u001b[0mshape\u001b[0m\u001b[1;33m(\u001b[0m\u001b[0mA\u001b[0m\u001b[1;33m)\u001b[0m\u001b[1;33m[\u001b[0m\u001b[1;36m1\u001b[0m\u001b[1;33m]\u001b[0m\u001b[1;33m)\u001b[0m\u001b[1;33m)\u001b[0m\u001b[1;33m\u001b[0m\u001b[1;33m\u001b[0m\u001b[0m\n\u001b[0;32m     25\u001b[0m \u001b[1;33m\u001b[0m\u001b[0m\n\u001b[1;32m---> 26\u001b[1;33m \u001b[0mx_a\u001b[0m\u001b[1;33m=\u001b[0m\u001b[0mscipy\u001b[0m\u001b[1;33m.\u001b[0m\u001b[0msparse\u001b[0m\u001b[1;33m.\u001b[0m\u001b[0mlinalg\u001b[0m\u001b[1;33m.\u001b[0m\u001b[0mlsmr\u001b[0m\u001b[1;33m(\u001b[0m\u001b[0mA\u001b[0m\u001b[1;33m,\u001b[0m\u001b[0mb\u001b[0m\u001b[1;33m,\u001b[0m \u001b[0mdamp\u001b[0m\u001b[1;33m=\u001b[0m\u001b[0mlam\u001b[0m\u001b[1;33m**\u001b[0m\u001b[1;36m2\u001b[0m\u001b[1;33m)\u001b[0m\u001b[1;33m[\u001b[0m\u001b[1;36m0\u001b[0m\u001b[1;33m]\u001b[0m\u001b[1;33m\u001b[0m\u001b[1;33m\u001b[0m\u001b[0m\n\u001b[0m\u001b[0;32m     27\u001b[0m \u001b[0mx_a\u001b[0m \u001b[1;33m=\u001b[0m \u001b[0mx_a\u001b[0m\u001b[1;33m.\u001b[0m\u001b[0mreshape\u001b[0m\u001b[1;33m(\u001b[0m\u001b[1;33m(\u001b[0m\u001b[0mN\u001b[0m\u001b[1;33m,\u001b[0m\u001b[0mN\u001b[0m\u001b[1;33m)\u001b[0m\u001b[1;33m)\u001b[0m\u001b[1;33m\u001b[0m\u001b[1;33m\u001b[0m\u001b[0m\n\u001b[0;32m     28\u001b[0m \u001b[1;33m\u001b[0m\u001b[0m\n",
      "\u001b[1;32m~\\Anaconda3\\lib\\site-packages\\scipy\\sparse\\linalg\\isolve\\lsmr.py\u001b[0m in \u001b[0;36mlsmr\u001b[1;34m(A, b, damp, atol, btol, conlim, maxiter, show, x0)\u001b[0m\n\u001b[0;32m    247\u001b[0m     \u001b[1;32mif\u001b[0m \u001b[0mbeta\u001b[0m \u001b[1;33m>\u001b[0m \u001b[1;36m0\u001b[0m\u001b[1;33m:\u001b[0m\u001b[1;33m\u001b[0m\u001b[1;33m\u001b[0m\u001b[0m\n\u001b[0;32m    248\u001b[0m         \u001b[0mu\u001b[0m \u001b[1;33m=\u001b[0m \u001b[1;33m(\u001b[0m\u001b[1;36m1\u001b[0m \u001b[1;33m/\u001b[0m \u001b[0mbeta\u001b[0m\u001b[1;33m)\u001b[0m \u001b[1;33m*\u001b[0m \u001b[0mu\u001b[0m\u001b[1;33m\u001b[0m\u001b[1;33m\u001b[0m\u001b[0m\n\u001b[1;32m--> 249\u001b[1;33m         \u001b[0mv\u001b[0m \u001b[1;33m=\u001b[0m \u001b[0mA\u001b[0m\u001b[1;33m.\u001b[0m\u001b[0mrmatvec\u001b[0m\u001b[1;33m(\u001b[0m\u001b[0mu\u001b[0m\u001b[1;33m)\u001b[0m\u001b[1;33m\u001b[0m\u001b[1;33m\u001b[0m\u001b[0m\n\u001b[0m\u001b[0;32m    250\u001b[0m         \u001b[0malpha\u001b[0m \u001b[1;33m=\u001b[0m \u001b[0mnorm\u001b[0m\u001b[1;33m(\u001b[0m\u001b[0mv\u001b[0m\u001b[1;33m)\u001b[0m\u001b[1;33m\u001b[0m\u001b[1;33m\u001b[0m\u001b[0m\n\u001b[0;32m    251\u001b[0m     \u001b[1;32melse\u001b[0m\u001b[1;33m:\u001b[0m\u001b[1;33m\u001b[0m\u001b[1;33m\u001b[0m\u001b[0m\n",
      "\u001b[1;32m~\\Anaconda3\\lib\\site-packages\\scipy\\sparse\\linalg\\interface.py\u001b[0m in \u001b[0;36mrmatvec\u001b[1;34m(self, x)\u001b[0m\n\u001b[0;32m    272\u001b[0m \u001b[1;33m\u001b[0m\u001b[0m\n\u001b[0;32m    273\u001b[0m         \u001b[1;32mif\u001b[0m \u001b[0mx\u001b[0m\u001b[1;33m.\u001b[0m\u001b[0mshape\u001b[0m \u001b[1;33m!=\u001b[0m \u001b[1;33m(\u001b[0m\u001b[0mM\u001b[0m\u001b[1;33m,\u001b[0m\u001b[1;33m)\u001b[0m \u001b[1;32mand\u001b[0m \u001b[0mx\u001b[0m\u001b[1;33m.\u001b[0m\u001b[0mshape\u001b[0m \u001b[1;33m!=\u001b[0m \u001b[1;33m(\u001b[0m\u001b[0mM\u001b[0m\u001b[1;33m,\u001b[0m\u001b[1;36m1\u001b[0m\u001b[1;33m)\u001b[0m\u001b[1;33m:\u001b[0m\u001b[1;33m\u001b[0m\u001b[1;33m\u001b[0m\u001b[0m\n\u001b[1;32m--> 274\u001b[1;33m             \u001b[1;32mraise\u001b[0m \u001b[0mValueError\u001b[0m\u001b[1;33m(\u001b[0m\u001b[1;34m'dimension mismatch'\u001b[0m\u001b[1;33m)\u001b[0m\u001b[1;33m\u001b[0m\u001b[1;33m\u001b[0m\u001b[0m\n\u001b[0m\u001b[0;32m    275\u001b[0m \u001b[1;33m\u001b[0m\u001b[0m\n\u001b[0;32m    276\u001b[0m         \u001b[0my\u001b[0m \u001b[1;33m=\u001b[0m \u001b[0mself\u001b[0m\u001b[1;33m.\u001b[0m\u001b[0m_rmatvec\u001b[0m\u001b[1;33m(\u001b[0m\u001b[0mx\u001b[0m\u001b[1;33m)\u001b[0m\u001b[1;33m\u001b[0m\u001b[1;33m\u001b[0m\u001b[0m\n",
      "\u001b[1;31mValueError\u001b[0m: dimension mismatch"
     ]
    }
   ],
   "source": [
    "'''\n",
    "import scipy.io\n",
    "import scipy.sparse\n",
    "import matplotlib.pyplot as plt\n",
    "import numpy as np\n",
    "import math\n",
    "from scipy.sparse.linalg import cg\n",
    "\n",
    "#Load mat files from Finnish Inverse Problems society webpage (carved cheese dataset)\n",
    "#data = scipy.io.loadmat('DataFull_512x15.mat')\n",
    "data = {\n",
    "    'A': np.random.random((20, 20)),\n",
    "    'm': np.random.random((20, 20))}\n",
    "\n",
    "\n",
    "A = data['A']\n",
    "m = data['m']\n",
    "\n",
    "b = m.flatten()\n",
    "\n",
    "lam=10\n",
    "\n",
    "A_T = A.transpose()\n",
    "\n",
    "N = int(math.sqrt(np.shape(A)[1]))\n",
    "\n",
    "x_a=scipy.sparse.linalg.lsmr(A,b, damp=lam**2)[0]\n",
    "x_a = x_a.reshape((N,N))\n",
    "\n",
    "\n",
    "x=scipy.sparse.linalg.lsqr(A, b, damp=lam**2)[0]\n",
    "x = x.reshape((N,N))\n",
    "\n",
    "\n",
    "#Plot using LSMR\n",
    "plt.imshow(x_a,cmap = 'gray', interpolation='nearest')\n",
    "plt.show()\n",
    "#Plot using LSQR\n",
    "plt.imshow(x,cmap = 'gray', interpolation='nearest')\n",
    "plt.show()\n",
    "'''"
   ]
  },
  {
   "cell_type": "code",
   "execution_count": null,
   "metadata": {},
   "outputs": [],
   "source": []
  }
 ],
 "metadata": {
  "kernelspec": {
   "display_name": "Python 3",
   "language": "python",
   "name": "python3"
  },
  "language_info": {
   "codemirror_mode": {
    "name": "ipython",
    "version": 3
   },
   "file_extension": ".py",
   "mimetype": "text/x-python",
   "name": "python",
   "nbconvert_exporter": "python",
   "pygments_lexer": "ipython3",
   "version": "3.7.1"
  }
 },
 "nbformat": 4,
 "nbformat_minor": 4
}
