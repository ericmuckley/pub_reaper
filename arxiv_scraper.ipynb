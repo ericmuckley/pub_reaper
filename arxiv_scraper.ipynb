{
 "cells": [
  {
   "cell_type": "code",
   "execution_count": 27,
   "metadata": {},
   "outputs": [],
   "source": [
    "import os\n",
    "import time\n",
    "import pandas as pd\n",
    "import urllib.request\n",
    "from bs4 import BeautifulSoup\n",
    "import matplotlib.pyplot as plt"
   ]
  },
  {
   "cell_type": "code",
   "execution_count": 14,
   "metadata": {},
   "outputs": [
    {
     "name": "stdout",
     "output_type": "stream",
     "text": [
      "Found 3499 acticles using \"impedance\" query\n"
     ]
    }
   ],
   "source": [
    "# create a query topic\n",
    "query = 'impedance'\n",
    "\n",
    "# create API URL to request\n",
    "url_start = r'http://export.arxiv.org/api/query?search_query=all'\n",
    "url_end = r':{}&start=0&max_results=10000'.format(query)\n",
    "url = url_start + url_end\n",
    "\n",
    "# get response from URL, decode it, and remove new line characters\n",
    "response = urllib.request.urlopen(url).read()\n",
    "response = response.decode().replace('\\n', '')\n",
    "\n",
    "# create the HTML parser\n",
    "soup = BeautifulSoup(response, 'html.parser')\n",
    "\n",
    "# extract publication information from HTML\n",
    "titles = [i.get_text() for i in soup.find_all('title')][1:]\n",
    "summaries = [i.get_text().lstrip() for i in soup.find_all('summary')]\n",
    "years = [int(i.get_text().split('-')[0]) for i in soup.find_all('published')]\n",
    "print('Found {} acticles using \"{}\" query'.format(len(titles), query))"
   ]
  },
  {
   "cell_type": "code",
   "execution_count": 15,
   "metadata": {
    "scrolled": false
   },
   "outputs": [],
   "source": [
    "df = pd.DataFrame()\n",
    "df['title'] = titles\n",
    "df['year'] = years\n",
    "df['summary'] = summaries"
   ]
  },
  {
   "cell_type": "code",
   "execution_count": 16,
   "metadata": {},
   "outputs": [
    {
     "data": {
      "text/html": [
       "<div>\n",
       "<style scoped>\n",
       "    .dataframe tbody tr th:only-of-type {\n",
       "        vertical-align: middle;\n",
       "    }\n",
       "\n",
       "    .dataframe tbody tr th {\n",
       "        vertical-align: top;\n",
       "    }\n",
       "\n",
       "    .dataframe thead th {\n",
       "        text-align: right;\n",
       "    }\n",
       "</style>\n",
       "<table border=\"1\" class=\"dataframe\">\n",
       "  <thead>\n",
       "    <tr style=\"text-align: right;\">\n",
       "      <th></th>\n",
       "      <th>title</th>\n",
       "      <th>year</th>\n",
       "      <th>summary</th>\n",
       "    </tr>\n",
       "  </thead>\n",
       "  <tbody>\n",
       "    <tr>\n",
       "      <th>0</th>\n",
       "      <td>Mixer-First Receiver with wide-RF Range</td>\n",
       "      <td>2019</td>\n",
       "      <td>In the Passive Mixer first receiver, four mosf...</td>\n",
       "    </tr>\n",
       "    <tr>\n",
       "      <th>1</th>\n",
       "      <td>Complex impedance measurements of calorimeters...</td>\n",
       "      <td>2007</td>\n",
       "      <td>Impedance measurements provide a useful probe ...</td>\n",
       "    </tr>\n",
       "    <tr>\n",
       "      <th>2</th>\n",
       "      <td>Impedance of a sphere oscillating in an elasti...</td>\n",
       "      <td>2006</td>\n",
       "      <td>The dynamic impedance of a sphere oscillating ...</td>\n",
       "    </tr>\n",
       "    <tr>\n",
       "      <th>3</th>\n",
       "      <td>Exact Green's functions and Bosonization of a ...</td>\n",
       "      <td>2007</td>\n",
       "      <td>The exact Green's functions of a finite-size L...</td>\n",
       "    </tr>\n",
       "    <tr>\n",
       "      <th>4</th>\n",
       "      <td>Random scattering by rough surfaces with spati...</td>\n",
       "      <td>2019</td>\n",
       "      <td>A method is given for evaluating electromagnet...</td>\n",
       "    </tr>\n",
       "    <tr>\n",
       "      <th>...</th>\n",
       "      <td>...</td>\n",
       "      <td>...</td>\n",
       "      <td>...</td>\n",
       "    </tr>\n",
       "    <tr>\n",
       "      <th>3494</th>\n",
       "      <td>Tuning the Exo-Space Weather Radio for Stellar...</td>\n",
       "      <td>2020</td>\n",
       "      <td>Coronal mass ejections (CMEs) on stars other t...</td>\n",
       "    </tr>\n",
       "    <tr>\n",
       "      <th>3495</th>\n",
       "      <td>Vibroacoustics of the piano soundboard: Reduce...</td>\n",
       "      <td>2013</td>\n",
       "      <td>In string musical instruments, the sound is ra...</td>\n",
       "    </tr>\n",
       "    <tr>\n",
       "      <th>3496</th>\n",
       "      <td>3-D Magnetotelluric Investigations for geother...</td>\n",
       "      <td>2015</td>\n",
       "      <td>Within the framework of a global French progra...</td>\n",
       "    </tr>\n",
       "    <tr>\n",
       "      <th>3497</th>\n",
       "      <td>Search-based Tier Assignment for Optimising Of...</td>\n",
       "      <td>2017</td>\n",
       "      <td>Web programmers are often faced with several c...</td>\n",
       "    </tr>\n",
       "    <tr>\n",
       "      <th>3498</th>\n",
       "      <td>Concrete Syntax with Black Box Parsers</td>\n",
       "      <td>2019</td>\n",
       "      <td>Context: Meta programming consists for a large...</td>\n",
       "    </tr>\n",
       "  </tbody>\n",
       "</table>\n",
       "<p>3499 rows × 3 columns</p>\n",
       "</div>"
      ],
      "text/plain": [
       "                                                  title  year  \\\n",
       "0               Mixer-First Receiver with wide-RF Range  2019   \n",
       "1     Complex impedance measurements of calorimeters...  2007   \n",
       "2     Impedance of a sphere oscillating in an elasti...  2006   \n",
       "3     Exact Green's functions and Bosonization of a ...  2007   \n",
       "4     Random scattering by rough surfaces with spati...  2019   \n",
       "...                                                 ...   ...   \n",
       "3494  Tuning the Exo-Space Weather Radio for Stellar...  2020   \n",
       "3495  Vibroacoustics of the piano soundboard: Reduce...  2013   \n",
       "3496  3-D Magnetotelluric Investigations for geother...  2015   \n",
       "3497  Search-based Tier Assignment for Optimising Of...  2017   \n",
       "3498             Concrete Syntax with Black Box Parsers  2019   \n",
       "\n",
       "                                                summary  \n",
       "0     In the Passive Mixer first receiver, four mosf...  \n",
       "1     Impedance measurements provide a useful probe ...  \n",
       "2     The dynamic impedance of a sphere oscillating ...  \n",
       "3     The exact Green's functions of a finite-size L...  \n",
       "4     A method is given for evaluating electromagnet...  \n",
       "...                                                 ...  \n",
       "3494  Coronal mass ejections (CMEs) on stars other t...  \n",
       "3495  In string musical instruments, the sound is ra...  \n",
       "3496  Within the framework of a global French progra...  \n",
       "3497  Web programmers are often faced with several c...  \n",
       "3498  Context: Meta programming consists for a large...  \n",
       "\n",
       "[3499 rows x 3 columns]"
      ]
     },
     "execution_count": 16,
     "metadata": {},
     "output_type": "execute_result"
    }
   ],
   "source": [
    "df"
   ]
  },
  {
   "cell_type": "code",
   "execution_count": 30,
   "metadata": {},
   "outputs": [],
   "source": [
    "# save dataframe to file\n",
    "\n",
    "export_time = time.strftime('%Y-%m-%d_%H-%M')\n",
    "export_filepath = os.path.join(\n",
    "    os.getcwd(), query+'__arxiv_query_'+export_time+'.txt')\n",
    "df.to_csv(export_filepath, index=False, sep='\\t')"
   ]
  },
  {
   "cell_type": "code",
   "execution_count": null,
   "metadata": {},
   "outputs": [],
   "source": [
    "'''\n",
    "summary = re.search('<summary>(.+?)</summary>', text)\n",
    "if summary:\n",
    "    print(summary.group(1).lstrip())\n",
    "else:\n",
    "    print('No summary tag found.')\n",
    "    summary = ''\n",
    "'''\n",
    "    "
   ]
  },
  {
   "cell_type": "code",
   "execution_count": 21,
   "metadata": {},
   "outputs": [
    {
     "data": {
      "image/png": "[encoded data removed]",
      "text/plain": [
       "<Figure size 432x288 with 1 Axes>"
      ]
     },
     "metadata": {
      "needs_background": "light"
     },
     "output_type": "display_data"
    }
   ],
   "source": [
    "df.hist(column='year', bins=50)\n",
    "plt.show()"
   ]
  },
  {
   "cell_type": "code",
   "execution_count": null,
   "metadata": {},
   "outputs": [],
   "source": []
  },
  {
   "cell_type": "code",
   "execution_count": null,
   "metadata": {},
   "outputs": [],
   "source": [
    "#print(soup.prettify())"
   ]
  },
  {
   "cell_type": "code",
   "execution_count": null,
   "metadata": {},
   "outputs": [],
   "source": []
  },
  {
   "cell_type": "code",
   "execution_count": null,
   "metadata": {},
   "outputs": [],
   "source": []
  }
 ],
 "metadata": {
  "kernelspec": {
   "display_name": "Python 3",
   "language": "python",
   "name": "python3"
  },
  "language_info": {
   "codemirror_mode": {
    "name": "ipython",
    "version": 3
   },
   "file_extension": ".py",
   "mimetype": "text/x-python",
   "name": "python",
   "nbconvert_exporter": "python",
   "pygments_lexer": "ipython3",
   "version": "3.7.1"
  }
 },
 "nbformat": 4,
 "nbformat_minor": 4
}
